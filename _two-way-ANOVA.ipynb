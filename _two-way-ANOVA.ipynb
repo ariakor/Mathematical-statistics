{
 "cells": [
  {
   "cell_type": "markdown",
   "id": "5ab158b5",
   "metadata": {},
   "source": [
    "# Двуфакторный дисперсионный анализ"
   ]
  },
  {
   "cell_type": "markdown",
   "id": "87318e9e",
   "metadata": {},
   "source": [
    "Описание: Анализ экспрессии генов лейкоцитов позволяет предсказать вероятность развития атеросклероза. В эксперименте исследовался уровень экспрессии в зависимости от двух факторов: возраст и дозировка лекарства аторвастатина.  "
   ]
  },
  {
   "cell_type": "markdown",
   "id": "6c57c086",
   "metadata": {},
   "source": [
    "Цель: ответить на вопрос, делает ли параметр или параметры результаты между 4 группами статистически значимыми (Влияет ли возраст и/или дозировка на уровень экспрессии)?"
   ]
  },
  {
   "cell_type": "markdown",
   "id": "7de203a6",
   "metadata": {},
   "source": [
    "Нулевая гипотеза: результаты между группами не являются статистически значимыми (нет никакого влияния факторов на ген)."
   ]
  },
  {
   "cell_type": "markdown",
   "id": "16a9884d",
   "metadata": {},
   "source": [
    "### Загрузка данных и библиотек:"
   ]
  },
  {
   "cell_type": "code",
   "execution_count": 167,
   "id": "58506f54",
   "metadata": {},
   "outputs": [],
   "source": [
    "import pandas as pd\n",
    "import seaborn as sns\n",
    "import scipy.stats as stats\n",
    "from statsmodels.graphics.factorplots import interaction_plot"
   ]
  },
  {
   "cell_type": "code",
   "execution_count": 38,
   "id": "245e0004",
   "metadata": {},
   "outputs": [],
   "source": [
    "URL = 'https://stepik.org/media/attachments/lesson/9250/atherosclerosis.csv'\n",
    "data = pd.read_csv(URL)"
   ]
  },
  {
   "cell_type": "code",
   "execution_count": 39,
   "id": "6faa7580",
   "metadata": {},
   "outputs": [
    {
     "data": {
      "text/html": [
       "<div>\n",
       "<style scoped>\n",
       "    .dataframe tbody tr th:only-of-type {\n",
       "        vertical-align: middle;\n",
       "    }\n",
       "\n",
       "    .dataframe tbody tr th {\n",
       "        vertical-align: top;\n",
       "    }\n",
       "\n",
       "    .dataframe thead th {\n",
       "        text-align: right;\n",
       "    }\n",
       "</style>\n",
       "<table border=\"1\" class=\"dataframe\">\n",
       "  <thead>\n",
       "    <tr style=\"text-align: right;\">\n",
       "      <th></th>\n",
       "      <th>expr</th>\n",
       "      <th>age</th>\n",
       "      <th>dose</th>\n",
       "    </tr>\n",
       "  </thead>\n",
       "  <tbody>\n",
       "    <tr>\n",
       "      <th>0</th>\n",
       "      <td>107.351478</td>\n",
       "      <td>1</td>\n",
       "      <td>D1</td>\n",
       "    </tr>\n",
       "    <tr>\n",
       "      <th>1</th>\n",
       "      <td>104.504438</td>\n",
       "      <td>1</td>\n",
       "      <td>D1</td>\n",
       "    </tr>\n",
       "    <tr>\n",
       "      <th>2</th>\n",
       "      <td>103.435134</td>\n",
       "      <td>1</td>\n",
       "      <td>D1</td>\n",
       "    </tr>\n",
       "    <tr>\n",
       "      <th>3</th>\n",
       "      <td>109.572882</td>\n",
       "      <td>1</td>\n",
       "      <td>D1</td>\n",
       "    </tr>\n",
       "    <tr>\n",
       "      <th>4</th>\n",
       "      <td>114.993803</td>\n",
       "      <td>1</td>\n",
       "      <td>D1</td>\n",
       "    </tr>\n",
       "    <tr>\n",
       "      <th>...</th>\n",
       "      <td>...</td>\n",
       "      <td>...</td>\n",
       "      <td>...</td>\n",
       "    </tr>\n",
       "    <tr>\n",
       "      <th>59</th>\n",
       "      <td>101.851582</td>\n",
       "      <td>2</td>\n",
       "      <td>D2</td>\n",
       "    </tr>\n",
       "    <tr>\n",
       "      <th>60</th>\n",
       "      <td>105.239530</td>\n",
       "      <td>2</td>\n",
       "      <td>D2</td>\n",
       "    </tr>\n",
       "    <tr>\n",
       "      <th>61</th>\n",
       "      <td>99.350198</td>\n",
       "      <td>2</td>\n",
       "      <td>D2</td>\n",
       "    </tr>\n",
       "    <tr>\n",
       "      <th>62</th>\n",
       "      <td>108.091455</td>\n",
       "      <td>2</td>\n",
       "      <td>D2</td>\n",
       "    </tr>\n",
       "    <tr>\n",
       "      <th>63</th>\n",
       "      <td>111.639129</td>\n",
       "      <td>2</td>\n",
       "      <td>D2</td>\n",
       "    </tr>\n",
       "  </tbody>\n",
       "</table>\n",
       "<p>64 rows × 3 columns</p>\n",
       "</div>"
      ],
      "text/plain": [
       "          expr  age dose\n",
       "0   107.351478    1   D1\n",
       "1   104.504438    1   D1\n",
       "2   103.435134    1   D1\n",
       "3   109.572882    1   D1\n",
       "4   114.993803    1   D1\n",
       "..         ...  ...  ...\n",
       "59  101.851582    2   D2\n",
       "60  105.239530    2   D2\n",
       "61   99.350198    2   D2\n",
       "62  108.091455    2   D2\n",
       "63  111.639129    2   D2\n",
       "\n",
       "[64 rows x 3 columns]"
      ]
     },
     "execution_count": 39,
     "metadata": {},
     "output_type": "execute_result"
    }
   ],
   "source": [
    "data"
   ]
  },
  {
   "cell_type": "code",
   "execution_count": 168,
   "id": "4237b0af",
   "metadata": {
    "scrolled": true
   },
   "outputs": [
    {
     "data": {
      "text/html": [
       "<div>\n",
       "<style scoped>\n",
       "    .dataframe tbody tr th:only-of-type {\n",
       "        vertical-align: middle;\n",
       "    }\n",
       "\n",
       "    .dataframe tbody tr th {\n",
       "        vertical-align: top;\n",
       "    }\n",
       "\n",
       "    .dataframe thead th {\n",
       "        text-align: right;\n",
       "    }\n",
       "</style>\n",
       "<table border=\"1\" class=\"dataframe\">\n",
       "  <thead>\n",
       "    <tr style=\"text-align: right;\">\n",
       "      <th></th>\n",
       "      <th></th>\n",
       "      <th>N</th>\n",
       "      <th>Mx</th>\n",
       "      <th>Sd</th>\n",
       "    </tr>\n",
       "    <tr>\n",
       "      <th>age</th>\n",
       "      <th>dose</th>\n",
       "      <th></th>\n",
       "      <th></th>\n",
       "      <th></th>\n",
       "    </tr>\n",
       "  </thead>\n",
       "  <tbody>\n",
       "    <tr>\n",
       "      <th rowspan=\"2\" valign=\"top\">1</th>\n",
       "      <th>D1</th>\n",
       "      <td>16</td>\n",
       "      <td>104.758464</td>\n",
       "      <td>5.863454</td>\n",
       "    </tr>\n",
       "    <tr>\n",
       "      <th>D2</th>\n",
       "      <td>16</td>\n",
       "      <td>105.545864</td>\n",
       "      <td>4.369024</td>\n",
       "    </tr>\n",
       "    <tr>\n",
       "      <th rowspan=\"2\" valign=\"top\">2</th>\n",
       "      <th>D1</th>\n",
       "      <td>16</td>\n",
       "      <td>101.004805</td>\n",
       "      <td>5.116310</td>\n",
       "    </tr>\n",
       "    <tr>\n",
       "      <th>D2</th>\n",
       "      <td>16</td>\n",
       "      <td>102.273629</td>\n",
       "      <td>5.135374</td>\n",
       "    </tr>\n",
       "  </tbody>\n",
       "</table>\n",
       "</div>"
      ],
      "text/plain": [
       "           N          Mx        Sd\n",
       "age dose                          \n",
       "1   D1    16  104.758464  5.863454\n",
       "    D2    16  105.545864  4.369024\n",
       "2   D1    16  101.004805  5.116310\n",
       "    D2    16  102.273629  5.135374"
      ]
     },
     "execution_count": 168,
     "metadata": {},
     "output_type": "execute_result"
    }
   ],
   "source": [
    "groups = data.groupby(['age', 'dose'])['expr'] \n",
    "n = groups.apply(len) \n",
    "mean = groups.mean()\n",
    "sd = groups.std()\n",
    "results = {'N': n,\n",
    "           'Mx': mean,\n",
    "           'Sd': sd}\n",
    "pd.DataFrame(results, columns=['N','Mx', 'Sd'])"
   ]
  },
  {
   "cell_type": "markdown",
   "id": "9db5a40b",
   "metadata": {},
   "source": [
    "  "
   ]
  },
  {
   "cell_type": "markdown",
   "id": "1b582788",
   "metadata": {},
   "source": [
    "### Дисперсионный анализ и его результаты:"
   ]
  },
  {
   "cell_type": "code",
   "execution_count": 169,
   "id": "5b586c9e",
   "metadata": {},
   "outputs": [
    {
     "data": {
      "text/html": [
       "<div>\n",
       "<style scoped>\n",
       "    .dataframe tbody tr th:only-of-type {\n",
       "        vertical-align: middle;\n",
       "    }\n",
       "\n",
       "    .dataframe tbody tr th {\n",
       "        vertical-align: top;\n",
       "    }\n",
       "\n",
       "    .dataframe thead th {\n",
       "        text-align: right;\n",
       "    }\n",
       "</style>\n",
       "<table border=\"1\" class=\"dataframe\">\n",
       "  <thead>\n",
       "    <tr style=\"text-align: right;\">\n",
       "      <th></th>\n",
       "      <th>Sum_Sq</th>\n",
       "      <th>Mean_Sq</th>\n",
       "      <th>Df</th>\n",
       "      <th>F</th>\n",
       "      <th>PR(&gt;F)</th>\n",
       "    </tr>\n",
       "  </thead>\n",
       "  <tbody>\n",
       "    <tr>\n",
       "      <th>Age</th>\n",
       "      <td>197.452754</td>\n",
       "      <td>197.452754</td>\n",
       "      <td>1</td>\n",
       "      <td>7.449841</td>\n",
       "      <td>0.008313</td>\n",
       "    </tr>\n",
       "    <tr>\n",
       "      <th>Dose</th>\n",
       "      <td>16.912241</td>\n",
       "      <td>16.912241</td>\n",
       "      <td>1</td>\n",
       "      <td>0.638094</td>\n",
       "      <td>0.427552</td>\n",
       "    </tr>\n",
       "    <tr>\n",
       "      <th>Age:Dose</th>\n",
       "      <td>0.927077</td>\n",
       "      <td>0.927077</td>\n",
       "      <td>1</td>\n",
       "      <td>0.034978</td>\n",
       "      <td>0.852272</td>\n",
       "    </tr>\n",
       "    <tr>\n",
       "      <th>Residual</th>\n",
       "      <td>1590.257424</td>\n",
       "      <td>26.504290</td>\n",
       "      <td>60</td>\n",
       "      <td>NaN</td>\n",
       "      <td>NaN</td>\n",
       "    </tr>\n",
       "  </tbody>\n",
       "</table>\n",
       "</div>"
      ],
      "text/plain": [
       "               Sum_Sq     Mean_Sq  Df         F    PR(>F)\n",
       "Age        197.452754  197.452754   1  7.449841  0.008313\n",
       "Dose        16.912241   16.912241   1  0.638094  0.427552\n",
       "Age:Dose     0.927077    0.927077   1  0.034978  0.852272\n",
       "Residual  1590.257424   26.504290  60       NaN       NaN"
      ]
     },
     "execution_count": 169,
     "metadata": {},
     "output_type": "execute_result"
    }
   ],
   "source": [
    "# a- age, b- dose\n",
    "N =  len(data.expr) #размер выборки\n",
    "m1 = len(data.age.unique()) #размер параметра возраста\n",
    "m2 = len(data.dose.unique()) #размер параметра дозировки\n",
    "\n",
    "\n",
    "# степени свободы\n",
    "df_a = m1 - 1\n",
    "df_b = m2 - 1\n",
    "df_axb = df_a*df_b \n",
    "df_w = N - m1*m2\n",
    "\n",
    "\n",
    "# общее среднее\n",
    "grand_mean = data['expr'].mean()\n",
    "\n",
    "\n",
    "# суммы квадратов\n",
    "ssq_a = sum([(data[data.age == i].expr.mean()-grand_mean)**2 for i in data.age]) # межгрупповой квадрат для фактора age\n",
    "ssq_b = sum([(data[data.dose == i].expr.mean()-grand_mean)**2 for i in data.dose]) # межгрупповой для фактора dose\n",
    "ssq_t = sum((data.expr - grand_mean)**2) # общая сумма квадратов\n",
    "\n",
    "f_age = data[data.age == 1]\n",
    "s_age = data[data.age == 2]\n",
    "f_age_dose_means = [f_age[f_age.dose == d].expr.mean() for d in f_age.dose] # заполняем массив из средних двух групп по первой дозировке\n",
    "s_age_dose_means = [s_age[s_age.dose == d].expr.mean() for d in s_age.dose] # заполняем массив из средних двух групп по второй дозировке\n",
    "ssq_w = sum((s_age.expr - s_age_dose_means)**2) +sum((f_age.expr - f_age_dose_means)**2) # внутригрупповой квадрат\n",
    "\n",
    "# средние квадраты \n",
    "ms_a = ssq_a/df_a # межгрупповой средний квадрат для фактора age\n",
    "ms_b = ssq_b/df_b # межгрупповой средний для фактора dose\n",
    "ms_axb = ssq_axb/df_axb # среднеквадратичное AxB\n",
    "ms_w = ssq_w/df_w # внутригрупповой средний квадрат\n",
    "\n",
    "# F-значения (делим медгрупповой на внутригрупповой средний квадрат)\n",
    "f_a = ms_a/ms_w\n",
    "f_b = ms_b/ms_w\n",
    "f_axb = ms_axb/ms_w\n",
    "\n",
    "# P-значения\n",
    "p_a = stats.f.sf(f_a, df_a, df_w)\n",
    "p_b = stats.f.sf(f_b, df_b, df_w)\n",
    "p_axb = stats.f.sf(f_axb, df_axb, df_w)\n",
    "\n",
    "\n",
    "# вывод таблицы результатов\n",
    "results = {'Sum_Sq':[ssq_a, ssq_b, ssq_axb, ssq_w],\n",
    "           'Mean_Sq':[ms_a, ms_b, ms_axb, ms_w],\n",
    "           'Df':[df_a, df_b, df_axb, df_w],\n",
    "           'F':[f_a, f_b, f_axb, 'NaN'],\n",
    "            'PR(>F)':[p_a, p_b, p_axb, 'NaN']}\n",
    "pd.DataFrame(results, columns=['Sum_Sq', 'Mean_Sq', 'Df', 'F', 'PR(>F)'], index=['Age', 'Dose','Age:Dose', 'Residual'])"
   ]
  },
  {
   "cell_type": "markdown",
   "id": "71ffea98",
   "metadata": {},
   "source": [
    "  "
   ]
  },
  {
   "cell_type": "markdown",
   "id": "0df3daad",
   "metadata": {},
   "source": [
    "### Построение графика и вывод:"
   ]
  },
  {
   "cell_type": "code",
   "execution_count": 171,
   "id": "253db337",
   "metadata": {},
   "outputs": [
    {
     "data": {
      "text/plain": [
       "Text(0, 0.5, 'Уровень экспрессии')"
      ]
     },
     "execution_count": 171,
     "metadata": {},
     "output_type": "execute_result"
    },
    {
     "data": {
      "image/png": "[encoded data removed]",
      "text/plain": [
       "<Figure size 432x288 with 1 Axes>"
      ]
     },
     "metadata": {
      "needs_background": "light"
     },
     "output_type": "display_data"
    }
   ],
   "source": [
    "pointplot = sns.pointplot(x=data.dose, y=data.expr, hue=data.age, data=data, dodge=True, linestyles=['', ''])\n",
    "pointplot.axes.set_title(\"Экспрессия гена в зависимости от дозировки и возраста пациента\", fontsize=12)\n",
    "pointplot.set_xlabel(\"Дозировка\", fontsize=10)\n",
    "pointplot.set_ylabel(\"Уровень экспрессии\", fontsize=10)"
   ]
  },
  {
   "cell_type": "markdown",
   "id": "efd93245",
   "metadata": {},
   "source": [
    "Большая часть изменчивости обуславливается благодаря фактору - \"Возраст\", а фактор \"Дозировка\", \"Взаимодействие факторов между собой\", \"Внутригрупповая изменчивость\" оказались не столь значительными. "
   ]
  },
  {
   "cell_type": "markdown",
   "id": "26784e43",
   "metadata": {},
   "source": [
    "#### Вывод: статистически значимый эффект для фактора возраста пациентов (p < 0.05, f = 7.4). Т.е. возраст значительно влияет на уровень экпрессии."
   ]
  }
 ],
 "metadata": {
  "kernelspec": {
   "display_name": "Python 3 (ipykernel)",
   "language": "python",
   "name": "python3"
  },
  "language_info": {
   "codemirror_mode": {
    "name": "ipython",
    "version": 3
   },
   "file_extension": ".py",
   "mimetype": "text/x-python",
   "name": "python",
   "nbconvert_exporter": "python",
   "pygments_lexer": "ipython3",
   "version": "3.9.7"
  }
 },
 "nbformat": 4,
 "nbformat_minor": 5
}
